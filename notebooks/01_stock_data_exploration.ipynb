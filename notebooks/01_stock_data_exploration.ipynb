{
 "cells": [
  {
   "cell_type": "markdown",
   "id": "aaf53601",
   "metadata": {},
   "source": [
    "# 📈 Apple Stock Price Analysis (May 2024 to Jun 2025)\n",
    "\n",
    "This notebook demonstrates how to retrieve and visualize historical stock price data using the `yfinance` Python package.\n",
    "\n",
    "We'll explore:\n",
    "- How to download stock data\n",
    "- Basic inspection of the dataset\n",
    "- Simple visualization of closing prices\n"
   ]
  },
  {
   "cell_type": "code",
   "execution_count": null,
   "id": "d3e0a994",
   "metadata": {},
   "outputs": [],
   "source": [
    "import yfinance as yf\n",
    "\n",
    "ticker = \"TSLA\"\n",
    "# Download historical stock data for Tesla (TSLA) from June 1, 2024 to May 31, 2025\n",
    "data = yf.download(ticker, start=\"2024-06-01\", end=\"2025-05-31\")\n",
    "data.head()\n"
   ]
  },
  {
   "cell_type": "code",
   "execution_count": null,
   "id": "a55dc6b3",
   "metadata": {},
   "outputs": [],
   "source": [
    "import matplotlib.pyplot as plt\n",
    "\n",
    "plt.figure(figsize=(10, 5))\n",
    "data[\"Close\"].plot(title=f\"{ticker} Closing Price (May 2024 to Jun 2025)\", grid=True)\n",
    "plt.xlabel(\"Date\")\n",
    "plt.ylabel(\"Price (USD)\")\n",
    "plt.tight_layout()\n",
    "plt.show()\n"
   ]
  },
  {
   "cell_type": "markdown",
   "id": "b4ddc75d",
   "metadata": {},
   "source": [
    "## 📌 Next Steps\n",
    "\n",
    "- Compare multiple tickers (e.g., MSFT, AAPL)\n",
    "- Calculate moving averages\n",
    "- Detect trends using technical indicators\n",
    "- Export data to CSV\n",
    "\n",
    "📁 Data source: Yahoo Finance via `yfinance`\n"
   ]
  }
 ],
 "metadata": {
  "kernelspec": {
   "display_name": "stock_env",
   "language": "python",
   "name": "python3"
  },
  "language_info": {
   "codemirror_mode": {
    "name": "ipython",
    "version": 3
   },
   "file_extension": ".py",
   "mimetype": "text/x-python",
   "name": "python",
   "nbconvert_exporter": "python",
   "pygments_lexer": "ipython3",
   "version": "3.11.11"
  }
 },
 "nbformat": 4,
 "nbformat_minor": 5
}
